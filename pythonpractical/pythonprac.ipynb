{
 "cells": [
  {
   "cell_type": "code",
   "execution_count": 1,
   "metadata": {},
   "outputs": [
    {
     "name": "stdout",
     "output_type": "stream",
     "text": [
      "    City        Date  AQI  PM2.5  PM10        NO2        CO          O3  \\\n",
      "0  Delhi  2024-01-01  152    153   151  26.509131  1.581413  123.401530   \n",
      "1  Delhi  2024-01-02  264    288   268  87.955853  1.242119  144.533790   \n",
      "2  Delhi  2024-01-03  307    344   357  94.469744  0.101480  198.520196   \n",
      "3  Delhi  2024-01-04  363    334   347  12.075618  1.097072   85.973585   \n",
      "4  Delhi  2024-01-05  237    266   250  51.046299  1.591834   47.938019   \n",
      "5  Delhi  2024-01-06  369    321   327  64.679037  0.423996   22.359803   \n",
      "6  Delhi  2024-01-07  365    328   347  44.687485  0.130336   53.869827   \n",
      "7  Delhi  2024-01-08  493    513   526  54.565922  0.165338  182.770876   \n",
      "\n",
      "         SO2  \n",
      "0  25.062474  \n",
      "1   5.926302  \n",
      "2  32.786668  \n",
      "3   7.099955  \n",
      "4  28.140550  \n",
      "5  47.699849  \n",
      "6  15.846146  \n",
      "7  16.645099  \n"
     ]
    }
   ],
   "source": [
    "import pandas as pd\n",
    "# load the csv file\n",
    "df = pd.read_csv(\"AQI_Data.csv\")\n",
    "#Display the first 8 rows\n",
    "df1 = df.head(8)\n",
    "print(df1)\n",
    "\n"
   ]
  },
  {
   "cell_type": "code",
   "execution_count": 2,
   "metadata": {},
   "outputs": [
    {
     "name": "stdout",
     "output_type": "stream",
     "text": [
      "      City        Date  AQI  PM2.5  PM10        NO2        CO          O3  \\\n",
      "2557  Pune  2024-12-27  419    448   462  26.701714  1.553582   86.973954   \n",
      "2558  Pune  2024-12-28  252    202   182  19.920962  1.599821   41.939484   \n",
      "2559  Pune  2024-12-29  365    414   410  80.815702  1.919950   39.982167   \n",
      "2560  Pune  2024-12-30  253    269   285  66.231614  0.611800   63.966705   \n",
      "2561  Pune  2024-12-31   95    140   117  99.505459  0.122817  112.774765   \n",
      "\n",
      "            SO2  \n",
      "2557  44.263423  \n",
      "2558  20.545087  \n",
      "2559  22.646297  \n",
      "2560  10.580135  \n",
      "2561  30.814997  \n"
     ]
    }
   ],
   "source": [
    "df2 = df.tail(5)\n",
    "# display first 5 rows \n",
    "print(df2)"
   ]
  },
  {
   "cell_type": "code",
   "execution_count": 3,
   "metadata": {},
   "outputs": [
    {
     "name": "stdout",
     "output_type": "stream",
     "text": [
      "City      object\n",
      "Date      object\n",
      "AQI        int64\n",
      "PM2.5      int64\n",
      "PM10       int64\n",
      "NO2      float64\n",
      "CO       float64\n",
      "O3       float64\n",
      "SO2      float64\n",
      "dtype: object\n"
     ]
    }
   ],
   "source": [
    "#display the dtype\n",
    "print(df.dtypes)"
   ]
  },
  {
   "cell_type": "code",
   "execution_count": 4,
   "metadata": {},
   "outputs": [
    {
     "name": "stdout",
     "output_type": "stream",
     "text": [
      "the number of non null values :\n",
      "City     2562\n",
      "Date     2562\n",
      "AQI      2562\n",
      "PM2.5    2562\n",
      "PM10     2562\n",
      "NO2      2562\n",
      "CO       2562\n",
      "O3       2562\n",
      "SO2      2562\n",
      "dtype: int64\n"
     ]
    }
   ],
   "source": [
    "#Display the number of  non null values\n",
    "print(\"the number of non null values :\" )\n",
    "print(df.count())\n"
   ]
  },
  {
   "cell_type": "code",
   "execution_count": 5,
   "metadata": {},
   "outputs": [
    {
     "name": "stdout",
     "output_type": "stream",
     "text": [
      "the mean of AQI: 277.6350507416081\n",
      "the max of PM2.5: 543\n",
      "the min of PM10: -26\n"
     ]
    }
   ],
   "source": [
    "import numpy as np\n",
    "# find the mean of AQI column\n",
    "meanAqI=np.mean(df['AQI'])\n",
    "# display the mean of AQI column\n",
    "print(\"the mean of AQI: \" + str(meanAqI))\n",
    "#find the max using numpy\n",
    "maxPM=np.max(df['PM2.5'])\n",
    "#Display the max of PM2.5\n",
    "print(\"the max of PM2.5: \" + str(maxPM))\n",
    "#find the min using numpy\n",
    "minPM= np.min(df['PM10'])\n",
    "#Display the min of PM2.5\n",
    "print(\"the min of PM10: \" + str(minPM))"
   ]
  },
  {
   "cell_type": "code",
   "execution_count": 6,
   "metadata": {},
   "outputs": [
    {
     "name": "stdout",
     "output_type": "stream",
     "text": [
      "     Location        Date  Air Quality Index  Particulate Matter 2.5  \\\n",
      "0       Delhi  2024-01-01                152                     153   \n",
      "1       Delhi  2024-01-02                264                     288   \n",
      "2       Delhi  2024-01-03                307                     344   \n",
      "3       Delhi  2024-01-04                363                     334   \n",
      "4       Delhi  2024-01-05                237                     266   \n",
      "...       ...         ...                ...                     ...   \n",
      "2557     Pune  2024-12-27                419                     448   \n",
      "2558     Pune  2024-12-28                252                     202   \n",
      "2559     Pune  2024-12-29                365                     414   \n",
      "2560     Pune  2024-12-30                253                     269   \n",
      "2561     Pune  2024-12-31                 95                     140   \n",
      "\n",
      "      Particulate Matter 10        NO2        CO          O3        SO2  \n",
      "0                       151  26.509131  1.581413  123.401530  25.062474  \n",
      "1                       268  87.955853  1.242119  144.533790   5.926302  \n",
      "2                       357  94.469744  0.101480  198.520196  32.786668  \n",
      "3                       347  12.075618  1.097072   85.973585   7.099955  \n",
      "4                       250  51.046299  1.591834   47.938019  28.140550  \n",
      "...                     ...        ...       ...         ...        ...  \n",
      "2557                    462  26.701714  1.553582   86.973954  44.263423  \n",
      "2558                    182  19.920962  1.599821   41.939484  20.545087  \n",
      "2559                    410  80.815702  1.919950   39.982167  22.646297  \n",
      "2560                    285  66.231614  0.611800   63.966705  10.580135  \n",
      "2561                    117  99.505459  0.122817  112.774765  30.814997  \n",
      "\n",
      "[2562 rows x 9 columns]\n"
     ]
    }
   ],
   "source": [
    "# Rename the column of data csv file\n",
    "df.rename(columns={'AQI': 'Air Quality Index', 'PM2.5': 'Particulate Matter 2.5','PM10': 'Particulate Matter 10','City': 'Location'}, inplace=True)\n",
    "# display after renaming the column\n",
    "print(df)"
   ]
  },
  {
   "cell_type": "code",
   "execution_count": 7,
   "metadata": {},
   "outputs": [
    {
     "name": "stdout",
     "output_type": "stream",
     "text": [
      "     Location        Date  Air Quality Index  Particulate Matter 2.5  \\\n",
      "0       Delhi  2024-01-01                152                     153   \n",
      "1       Delhi  2024-01-02                264                     288   \n",
      "2       Delhi  2024-01-03                307                     344   \n",
      "3       Delhi  2024-01-04                363                     334   \n",
      "4       Delhi  2024-01-05                237                     266   \n",
      "...       ...         ...                ...                     ...   \n",
      "2557     Pune  2024-12-27                419                     448   \n",
      "2558     Pune  2024-12-28                252                     202   \n",
      "2559     Pune  2024-12-29                365                     414   \n",
      "2560     Pune  2024-12-30                253                     269   \n",
      "2561     Pune  2024-12-31                 95                     140   \n",
      "\n",
      "      Particulate Matter 10        NO2        CO          O3        SO2  \n",
      "0                       151  26.509131  1.581413  123.401530  25.062474  \n",
      "1                       268  87.955853  1.242119  144.533790   5.926302  \n",
      "2                       357  94.469744  0.101480  198.520196  32.786668  \n",
      "3                       347  12.075618  1.097072   85.973585   7.099955  \n",
      "4                       250  51.046299  1.591834   47.938019  28.140550  \n",
      "...                     ...        ...       ...         ...        ...  \n",
      "2557                    462  26.701714  1.553582   86.973954  44.263423  \n",
      "2558                    182  19.920962  1.599821   41.939484  20.545087  \n",
      "2559                    410  80.815702  1.919950   39.982167  22.646297  \n",
      "2560                    285  66.231614  0.611800   63.966705  10.580135  \n",
      "2561                    117  99.505459  0.122817  112.774765  30.814997  \n",
      "\n",
      "[2562 rows x 9 columns]\n"
     ]
    }
   ],
   "source": [
    "df.replace('unknown', 'not available', inplace=True)\n",
    "#Display the data after performing the above operation\n",
    "print(df)"
   ]
  },
  {
   "cell_type": "code",
   "execution_count": 8,
   "metadata": {},
   "outputs": [
    {
     "name": "stdout",
     "output_type": "stream",
     "text": [
      "   Unnamed: 0 Location        Date  Air Quality Index  Particulate Matter 2.5  \\\n",
      "0           0    Delhi  2024-01-01                152                     153   \n",
      "1           1    Delhi  2024-01-02                264                     288   \n",
      "2           2    Delhi  2024-01-03                307                     344   \n",
      "3           3    Delhi  2024-01-04                363                     334   \n",
      "4           4    Delhi  2024-01-05                237                     266   \n",
      "5           5    Delhi  2024-01-06                369                     321   \n",
      "6           6    Delhi  2024-01-07                365                     328   \n",
      "7           7    Delhi  2024-01-08                493                     513   \n",
      "\n",
      "   Particulate Matter 10        NO2        CO          O3        SO2  \n",
      "0                    151  26.509131  1.581413  123.401530  25.062474  \n",
      "1                    268  87.955853  1.242119  144.533790   5.926302  \n",
      "2                    357  94.469744  0.101480  198.520196  32.786668  \n",
      "3                    347  12.075618  1.097072   85.973585   7.099955  \n",
      "4                    250  51.046299  1.591834   47.938019  28.140550  \n",
      "5                    327  64.679037  0.423996   22.359803  47.699849  \n",
      "6                    347  44.687485  0.130336   53.869827  15.846146  \n",
      "7                    526  54.565922  0.165338  182.770876  16.645099  \n"
     ]
    }
   ],
   "source": [
    "# create the result.csv file \n",
    "df.to_csv('result.csv')\n",
    "# load the  updated csv file\n",
    "df = pd.read_csv(\"result.csv\")\n",
    "#Display the first 8 rows\n",
    "df3 = df.head(8)\n",
    "print(df3)\n"
   ]
  }
 ],
 "metadata": {
  "kernelspec": {
   "display_name": "Python 3",
   "language": "python",
   "name": "python3"
  },
  "language_info": {
   "codemirror_mode": {
    "name": "ipython",
    "version": 3
   },
   "file_extension": ".py",
   "mimetype": "text/x-python",
   "name": "python",
   "nbconvert_exporter": "python",
   "pygments_lexer": "ipython3",
   "version": "3.10.12"
  }
 },
 "nbformat": 4,
 "nbformat_minor": 2
}
